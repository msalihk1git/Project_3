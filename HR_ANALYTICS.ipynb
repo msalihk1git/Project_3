{
  "cells": [
    {
      "cell_type": "markdown",
      "metadata": {
        "colab_type": "text",
        "id": "view-in-github"
      },
      "source": [
        "<a href=\"https://colab.research.google.com/github/msalihk1git/Project_3/blob/main/HR_ANALYTICS.ipynb\" target=\"_parent\"><img src=\"https://colab.research.google.com/assets/colab-badge.svg\" alt=\"Open In Colab\"/></a>"
      ]
    },
    {
      "cell_type": "code",
      "execution_count": null,
      "metadata": {
        "id": "rOBgGyJwUbGF"
      },
      "outputs": [],
      "source": []
    },
    {
      "cell_type": "code",
      "execution_count": null,
      "metadata": {
        "id": "rOBgGyJwUbGF"
      },
      "outputs": [],
      "source": []
    }
  ],
  "metadata": {
    "colab": {
      "authorship_tag": "ABX9TyNTWnHfEflG/b1HAiTvgZyQ",
      "include_colab_link": true,
      "name": "HR_ANALYTICS.ipynb",
      "provenance": []
    },
    "kernelspec": {
      "display_name": "Python 3.6.0 64-bit",
      "language": "python",
      "name": "python3"
    },
    "language_info": {
      "name": "python",
      "version": "3.6.0"
    },
    "vscode": {
      "interpreter": {
        "hash": "94910b61620642e208063bed688f9408a51b163a08da45fc82aab76cce700e3e"
      }
    }
  },
  "nbformat": 4,
  "nbformat_minor": 0
}
